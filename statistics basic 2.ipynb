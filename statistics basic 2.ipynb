{
 "cells": [
  {
   "cell_type": "markdown",
   "id": "661629d8-cf47-40cc-aba7-af712d7b9c52",
   "metadata": {},
   "source": [
    "Q1. What are the three measures of central tendency?"
   ]
  },
  {
   "cell_type": "markdown",
   "id": "d968e130-f762-4bd0-b584-1b470084efc5",
   "metadata": {},
   "source": [
    "1)Mean\n",
    "2)Median\n",
    "3)Mode"
   ]
  },
  {
   "cell_type": "markdown",
   "id": "bb8d22b1-f94d-4389-97f9-684424b24b68",
   "metadata": {},
   "source": [
    "Q2. What is the difference between the mean, median, and mode? How are they used to measure the\n",
    "central tendency of a dataset?"
   ]
  },
  {
   "cell_type": "markdown",
   "id": "f17d0552-aa69-484f-b151-ceee7ab1b01a",
   "metadata": {},
   "source": [
    "The difference between mean, median and mode are:\n",
    "\n",
    "Mean is the average value of the given observations\n",
    "Median is the middle value of the given observations\n",
    "Mode is the most repeated value in the given observation\n",
    "\n",
    "\n",
    "The mean is the average where the sum of all the numbers is divided by the total number of numbers, whereas the median is the middle value in the list of given numbers numerically ordered from smallest to biggest and mode is the value of the number which occurs most often in the list. \n",
    "\n",
    "example=>[1,2,3,4,5,6,7,8,9]\n",
    "In a given a example,the mean of the list will be addition of all the element of list divided by total count of list that is 9, The mean will be 5. Where as Median that is middle of list is 5 and Mode will be zero as no number is repeating\n"
   ]
  },
  {
   "cell_type": "markdown",
   "id": "88d5d6d6-8118-46a6-84a1-84c3b4354242",
   "metadata": {},
   "source": [
    "Q3. Measure the three measures of central tendency for the given height data:\n",
    "[178,177,176,177,178.2,178,175,179,180,175,178.9,176.2,177,172.5,178,176.5]"
   ]
  },
  {
   "cell_type": "code",
   "execution_count": 5,
   "id": "15523bd7-61bc-4cd9-98f8-1f32d2bd6474",
   "metadata": {},
   "outputs": [
    {
     "name": "stdout",
     "output_type": "stream",
     "text": [
      "Mean = 177.01875 Median = 177.0 Mode = ModeResult(mode=array([177.]), count=array([3]))\n"
     ]
    },
    {
     "name": "stderr",
     "output_type": "stream",
     "text": [
      "/tmp/ipykernel_639/695207650.py:10: FutureWarning: Unlike other reduction functions (e.g. `skew`, `kurtosis`), the default behavior of `mode` typically preserves the axis it acts along. In SciPy 1.11.0, this behavior will change: the default value of `keepdims` will become False, the `axis` over which the statistic is taken will be eliminated, and the value None will no longer be accepted. Set `keepdims` to True or False to avoid this warning.\n",
      "  stats.mode([178,177,176,177,178.2,178,175,179,180,175,178.9,176.2,177,172.5,178,176.5])\n",
      "/tmp/ipykernel_639/695207650.py:17: FutureWarning: Unlike other reduction functions (e.g. `skew`, `kurtosis`), the default behavior of `mode` typically preserves the axis it acts along. In SciPy 1.11.0, this behavior will change: the default value of `keepdims` will become False, the `axis` over which the statistic is taken will be eliminated, and the value None will no longer be accepted. Set `keepdims` to True or False to avoid this warning.\n",
      "  stats.mode([178,177,176,177,178.2,178,175,179,180,175,178.9,176.2,177,172.5,178,176.5]))\n"
     ]
    }
   ],
   "source": [
    "import numpy as np\n",
    "from scipy import stats\n",
    "#Mean \n",
    "np.mean([178,177,176,177,178.2,178,175,179,180,175,178.9,176.2,177,172.5,178,176.5])\n",
    "\n",
    "#Median \n",
    "np.median([178,177,176,177,178.2,178,175,179,180,175,178.9,176.2,177,172.5,178,176.5])\n",
    "\n",
    "#Mode\n",
    "stats.mode([178,177,176,177,178.2,178,175,179,180,175,178.9,176.2,177,172.5,178,176.5])\n",
    "\n",
    "print(\"Mean\",\"=\", \n",
    "np.mean([178,177,176,177,178.2,178,175,179,180,175,178.9,176.2,177,172.5,178,176.5]),\n",
    "\"Median\" ,\"=\",\n",
    "np.median([178,177,176,177,178.2,178,175,179,180,175,178.9,176.2,177,172.5,178,176.5]),\n",
    "\"Mode\",\"=\",\n",
    "stats.mode([178,177,176,177,178.2,178,175,179,180,175,178.9,176.2,177,172.5,178,176.5]))\n"
   ]
  },
  {
   "cell_type": "markdown",
   "id": "05d4e12a-611f-48d6-8d53-62c7036f9d49",
   "metadata": {},
   "source": [
    "Q4. Find the standard deviation for the given data:\n",
    "[178,177,176,177,178.2,178,175,179,180,175,178.9,176.2,177,172.5,178,176.5]"
   ]
  },
  {
   "cell_type": "code",
   "execution_count": 6,
   "id": "46ab5869-ef1c-4a4c-aae5-8365efb4c2f7",
   "metadata": {},
   "outputs": [
    {
     "data": {
      "text/plain": [
       "1.7885814036548633"
      ]
     },
     "execution_count": 6,
     "metadata": {},
     "output_type": "execute_result"
    }
   ],
   "source": [
    "import numpy as np\n",
    "np.std([178,177,176,177,178.2,178,175,179,180,175,178.9,176.2,177,172.5,178,176.5])"
   ]
  },
  {
   "cell_type": "markdown",
   "id": "0308cfef-30b1-4222-822f-a347a6c7476a",
   "metadata": {},
   "source": [
    "Q5. How are measures of dispersion such as range, variance, and standard deviation used to describe\n",
    "the spread of a dataset? Provide an example."
   ]
  },
  {
   "cell_type": "markdown",
   "id": "90407ad6-e99d-44fb-b84f-39c34ff18453",
   "metadata": {},
   "source": [
    "Measures of Dispersion\n",
    "As the name suggests, the measure of dispersion shows the scatterings of the data. It tells the variation of the data from one another and gives a clear idea about the distribution of the data. The measure of dispersion shows the homogeneity or the heterogeneity of the distribution of the observations.\n",
    "\n",
    "Range\n",
    "The range is the easiest dispersion of data or measure of variability. The range can measure by subtracting the lowest value from the massive Number. The wide range indicates high variability, and the small range specifies low variability in the distribution. To calculate a range, prepare all the values in ascending order, then subtract the lowest value from the highest value.\n",
    "\n",
    " .\n",
    "\n",
    "         Range = Highest_value  – Lowest_value\n",
    "         \n",
    "Question 1: Find out the range of the following data: \n",
    "\n",
    "-4 \t5\t-10\t6\t9\n",
    "Solution: \n",
    "\n",
    "For calculating the range of a data, we need to find out the maximum and the minimum of the data: \n",
    "\n",
    "Max = 9 \n",
    "\n",
    "Min = -10\n",
    "\n",
    "Range = Max – Min \n",
    "\n",
    "            = 9 -(-10) \n",
    "\n",
    "            = 19 \n",
    "            \n",
    "            \n",
    "         \n",
    "Variance\n",
    "Variance is a simple measure of dispersion. Variance measures how far each number in the dataset from the mean. To compute variance first, calculate the mean and squared deviations from a mean.\n",
    "\n",
    "Standard Deviation\n",
    "Standard deviation is a squared root of the variance to get original values. Low standard deviation indicates data points close to mean.\n",
    "The normal distribution is conventional bits of help to understand the standard deviation.\n",
    "68 % of values lie within 1 standard deviation.\n",
    "\n",
    "95 % of values lies within 2 standard deviation.\n",
    "\n",
    "99.7 % of values lie within 3 standard deviation.\n",
    "\n",
    "\n",
    "Example=>\n",
    " Let’s say we have the following data, \n",
    "\n",
    "-4\t-2\t0\t-2\t6\t4\t6\t0\t-6\t4\n",
    "Calculate the range, variance, and standard deviation of the data. \n",
    "\n",
    "Solution: \n",
    "\n",
    "Range\n",
    "\n",
    "We need to find out the minimum and the maximum values of the data distribution. \n",
    "\n",
    "Min Value = -6 \n",
    "\n",
    "Max Value = +6 \n",
    "\n",
    "Range = Max Value – Min Value \n",
    "\n",
    "            = 6 – (-6) \n",
    "\n",
    "            = 12 \n",
    "\n",
    "Variance\n",
    "\n",
    "To find the variance, we first need to find the mean, \n",
    "\n",
    "Mean = 0.6\n",
    "\n",
    "We know the formula for Variance, \n",
    "\n",
    "Variance = 17.82 \n",
    "\n",
    "Standard Deviation\n",
    "\n",
    "\n",
    "⇒ \\sigma = 4.22\n",
    "\n",
    "\n",
    "\n",
    "\n"
   ]
  },
  {
   "cell_type": "markdown",
   "id": "4cd0423d-2b67-4906-9947-50e436abea2e",
   "metadata": {},
   "source": [
    "Q6. What is a Venn diagram?"
   ]
  },
  {
   "cell_type": "markdown",
   "id": "3bc724b4-ffe5-4b32-b0fd-6c754fb47a2c",
   "metadata": {},
   "source": [
    "A Venn diagram is a representation of how groups relate to one another, with groups called \"sets.\" Venn diagrams usually consist of two to three circles—or other shapes—that overlap, but there can be more shapes in a diagram based on the number of sets. Each shape represents a set of numbers, objects or concepts."
   ]
  },
  {
   "cell_type": "markdown",
   "id": "834e22ef-8270-4eca-aeed-1e6174692899",
   "metadata": {},
   "source": [
    "Q7. For the two given sets A = (2,3,4,5,6,7) & B = (0,2,6,8,10). Find:\n",
    "(i) A intersection  B\n",
    "(ii) A ⋃ B"
   ]
  },
  {
   "cell_type": "markdown",
   "id": "ed75995f-d13a-4af1-ac7b-0bbfe1f30e76",
   "metadata": {},
   "source": [
    "given sets A = (2,3,4,5,6,7) & B = (0,2,6,8,10)\n",
    "\n",
    "1)for A intersection B\n",
    "\n",
    "A intersection B=(0,3,4,5,7,8,10)\n",
    "\n",
    "2)A ⋃ B=(0,2,3,4,5,6,7,8,10)\n"
   ]
  },
  {
   "cell_type": "markdown",
   "id": "d45f588e-db1d-4ec9-9fb0-a1d85a828796",
   "metadata": {},
   "source": [
    "Q8. What do you understand about skewness in data?"
   ]
  },
  {
   "cell_type": "markdown",
   "id": "0c3eb63f-9fb4-48ef-b06e-576f18aababb",
   "metadata": {},
   "source": [
    "Skewness describes how much statistical data distribution is asymmetrical from the normal distribution, where distribution is equally divided on each side. If a distribution is not symmetrical or normal, it is skewed, i.e., the frequency distribution is skewed to the left or right. A skewness distribution is usually depicted through a bell curve on a graph.\n",
    "\n",
    "Skewness is how much the data set deviates from its normal distribution. A larger negative value in the data set means the distribution is negatively skewed, and a larger positive value in the data set means the distribution is positive. It is a good statistical measure that helps the investor predict distribution returns."
   ]
  },
  {
   "cell_type": "markdown",
   "id": "3c22671d-c175-4f0d-a9ae-b488daa66ba9",
   "metadata": {},
   "source": [
    "Q9. If a data is right skewed then what will be the position of median with respect to mean?"
   ]
  },
  {
   "cell_type": "markdown",
   "id": "108d9701-48df-4629-9e93-821fa65fc981",
   "metadata": {},
   "source": [
    "When most of the distribution frequency lies on the right side and has a longer and fatter right tail where the distribution’s Mean > median > Mode."
   ]
  },
  {
   "cell_type": "markdown",
   "id": "4b1ccd45-4c5b-4841-92f8-8ba2aa535cd3",
   "metadata": {},
   "source": [
    "Q10. Explain the difference between covariance and correlation. How are these measures used in\n",
    "statistical analysis?"
   ]
  },
  {
   "cell_type": "markdown",
   "id": "e2757150-5fe7-4773-a586-985a394a4663",
   "metadata": {},
   "source": [
    "The key differences between covariance and correlation can be summarized as follows:\n",
    "\n",
    "1.What do they measure? Covariance measures whether a variation in one variable results in a variation in another variable; for example, looking at whether an increase in one variable results in an increase, decrease, or no change in the other variable. Correlation measures the direction as well as the strength of the relationship between two variables (i.e. how strongly these two variables are related to each other).\n",
    "\n",
    "2.Relationship constraints: Covariance deals with the linear relationship of only two variables in the dataset, whereas correlation can involve two or multiple variables or data sets and their linear relationships.\n",
    "\n",
    "3.Value range: Although both correlation coefficient and covariance are measures of linear association, correlation coefficients are standardized, therefore displaying an absolute value within a definite range from -1 to 1. On the other hand, covariance values are not standardized and use an indefinite range from -∞ to +∞ , which makes the interpretation of covariance a bit tricky.\n",
    "\n",
    "4.Measurement units: Correlation is dimensionless, i.e. it is a unit-free measure of the relationship between variables. In contrast,  covariance is in units, which is formed by multiplying the unit of one variable by the unit of another variable.\n",
    "\n",
    "5.Change in scale: Covariance is affected by the change in scale, i.e. if all the values of one variable are multiplied by a constant and all the values of another variable are multiplied by a similar or different constant, then the covariance is changed. Conversely, correlation is not affected by the change in scale."
   ]
  },
  {
   "cell_type": "markdown",
   "id": "67a4040f-5ecb-4e2b-bdcc-82b57288a36c",
   "metadata": {},
   "source": [
    "Some common use cases of covariance and correlation within the field of data analytics include:\n",
    "\n",
    "1.Comparing samples from two or more different populations. This is useful because it helps in analyzing common trends and patterns in different samples.\n",
    "\n",
    "2.In data-driven industries, covariance and correlation help in identifying multivariate data in order to process data and effectively perform analytical operations.\n",
    "\n",
    "3.Correlation is a key method for investigating relations between two variables before implementing statistical modeling.\n",
    "\n",
    "4.PCA (principal component analysis) is implemented using covariance and correlation in order to shrink dimensions of large datasets to enhance interpretability. Data scientists use PCA to carry out predictive analysis and exploratory data analysis.\n",
    "\n",
    "5.Analytical processes such as multivariate analysis and feature selection are accomplished by employing covariance and correlation methods."
   ]
  },
  {
   "cell_type": "markdown",
   "id": "66f406c6-8e3b-4275-a60a-7a596533ad76",
   "metadata": {},
   "source": [
    "Q11. What is the formula for calculating the sample mean? Provide an example calculation for a\n",
    "dataset."
   ]
  },
  {
   "cell_type": "markdown",
   "id": "812660bd-8539-4187-8456-0c1209dc756c",
   "metadata": {},
   "source": [
    "A sample mean is an average of a set of data. The sample mean can be used to calculate the central tendency, standard deviation and the variance of a data set. The sample mean can be applied to a variety of uses, including calculating population averages. \n",
    "\n",
    "x̄ = ( Σ xi ) / n\n",
    "\n",
    "Here, x̄ represents the sample mean, Σ tells us to add, xi refers to all the X-values and n stands for the number of items in the data set.\n",
    "\n",
    "e.g. sample dataset=[1,2,3,4,5]\n",
    "    \n",
    "     x̄=(1+2+3+4+5)/5\n",
    "     \n",
    "     x̄=3"
   ]
  },
  {
   "cell_type": "markdown",
   "id": "1819df8a-c1d9-4946-908f-97b8712b1f5b",
   "metadata": {},
   "source": [
    "Q12.For a normal distribution data what is the relationship between its measure of central tendency?"
   ]
  },
  {
   "cell_type": "markdown",
   "id": "84eba578-81f0-4fff-bf28-20a27ab1e315",
   "metadata": {},
   "source": [
    "In a normal distribution, data is symmetrically distributed with no skew. Most values cluster around a central region, with values tapering off as they go further away from the center. The mean, mode and median are exactly the same in a normal distribution.\n",
    "\n"
   ]
  },
  {
   "cell_type": "markdown",
   "id": "92ee1ee8-e76a-4aac-94d6-e9e3a414e527",
   "metadata": {},
   "source": [
    "Q13. How is covariance different from correlation?"
   ]
  },
  {
   "cell_type": "markdown",
   "id": "51a2e6d7-83dc-478f-b381-de9119007ffc",
   "metadata": {},
   "source": [
    "Put simply, both covariance and correlation measure the relationship and the dependency between two variables. Covariance indicates the direction of the linear relationship between variables while correlation measures both the strength and direction of the linear relationship between two variables. Correlation is a function of the covariance. \n",
    "\n",
    "What sets these two concepts apart is the fact that correlation values are standardized whereas covariance values are not. \n",
    "\n",
    "You can obtain the correlation coefficient of two variables by dividing the covariance of these variables by the product of the standard deviations of the same values.\n",
    "\n",
    "Correlation values are standardized whereas covariance values are not. \n",
    "\n",
    "Don’t forget that standard deviation measures the absolute variability of a data set’s distribution. When you divide the covariance values by the standard deviation, it essentially scales the value down to a limited range of -1 to +1. This is precisely the range of the correlation values."
   ]
  },
  {
   "cell_type": "markdown",
   "id": "d4057e92-994b-43cf-ad62-e786c6bbb2a4",
   "metadata": {},
   "source": [
    "Q14. How do outliers affect measures of central tendency and dispersion? Provide an example."
   ]
  },
  {
   "cell_type": "markdown",
   "id": "185c8636-9800-47f5-8d87-47fe538f136c",
   "metadata": {},
   "source": [
    "Outliers are isolated extreme high or low values.  If they exist, the distribution is skewed  in the direction of the outlier(s).\n",
    "\n",
    "Outlier Affect on Central Tendency\n",
    "\n",
    "1.  Has little impact on mode, median\n",
    "\n",
    "2.  Big impact on mean:\n",
    "\n",
    "Extremely high values pull the mean up.\n",
    "\n",
    "Extremely low values pull the mean down.\n",
    "\n",
    "Ex. Age  \n",
    "\n",
    "Age 99 pulls mean up to 60\n",
    "\n",
    "Age 10 pulls mean down to 19\n",
    "\n",
    "3.  In a normally distributed variable, there are no extreme outliers.\n",
    "\n",
    "Outlier Affect on Dispersion:\n",
    "\n",
    "1.  Big impact on range, variance, and standard deviation.\n",
    "\n",
    "2.  Remove/transform them before calculating standard deviation.\n",
    "\n"
   ]
  },
  {
   "cell_type": "code",
   "execution_count": null,
   "id": "c69495b3-d63a-4b79-a85d-526c756e4e8a",
   "metadata": {},
   "outputs": [],
   "source": []
  }
 ],
 "metadata": {
  "kernelspec": {
   "display_name": "Python 3 (ipykernel)",
   "language": "python",
   "name": "python3"
  },
  "language_info": {
   "codemirror_mode": {
    "name": "ipython",
    "version": 3
   },
   "file_extension": ".py",
   "mimetype": "text/x-python",
   "name": "python",
   "nbconvert_exporter": "python",
   "pygments_lexer": "ipython3",
   "version": "3.10.8"
  }
 },
 "nbformat": 4,
 "nbformat_minor": 5
}
