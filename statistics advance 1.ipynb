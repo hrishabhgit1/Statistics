{
 "cells": [
  {
   "cell_type": "markdown",
   "id": "3fe88cf0-eb30-4c01-91ab-4986352e213d",
   "metadata": {},
   "source": [
    "Q1. What is the Probability density function?"
   ]
  },
  {
   "cell_type": "markdown",
   "id": "111b13ad-7811-4174-87a6-efa27d22183d",
   "metadata": {},
   "source": [
    "The Probability Density Function(PDF) defines the probability function representing the density of a continuous random variable lying between a specific range of values. In other words, the probability density function produces the likelihood of values of the continuous random variable. Sometimes it is also called a probability distribution function or just a probability function. However, this function is stated in many other sources as the function over a broad set of values. Often it is referred to as cumulative distribution function or sometimes as probability mass function(PMF). However, the actual truth is PDF (probability density function ) is defined for continuous random variables, whereas PMF (probability mass function) is defined for discrete random variables."
   ]
  },
  {
   "cell_type": "markdown",
   "id": "5b251633-169e-407b-b085-31b1e6fa97a1",
   "metadata": {},
   "source": [
    "Q2. What are the types of Probability distribution?"
   ]
  },
  {
   "cell_type": "markdown",
   "id": "23a52ec5-921a-4610-a019-d259fde9d8bf",
   "metadata": {},
   "source": [
    "probability distribution\n",
    "\n",
    "A probability distribution is an idealized frequency distribution.\n",
    "\n",
    "A frequency distribution describes a specific sample or dataset. It’s the number of times each possible value of a variable occurs in the dataset.\n",
    "\n",
    "The number of times a value occurs in a sample is determined by its probability of occurrence. Probability is a number between 0 and 1 that says how likely something is to occur:\n",
    "\n",
    "0 means it’s impossible.\n",
    "1 means it’s certain.\n",
    "The higher the probability of a value, the higher its frequency in a sample.\n",
    "\n",
    "More specifically, the probability of a value is its relative frequency in an infinitely large sample.\n",
    "\n",
    "Infinitely large samples are impossible in real life, so probability distributions are theoretical. They’re idealized versions of frequency distributions that aim to describe the population the sample was drawn from.\n",
    "\n",
    "Probability distributions are used to describe the populations of real-life variables, like coin tosses or the weight of chicken eggs. They’re also used in hypothesis testing to determine p values.\n",
    "\n",
    "Variables that follow a probability distribution are called random variables. There’s special notation you can use to say that a random variable follows a specific distribution:\n",
    "\n",
    "Random variables are usually denoted by X.\n",
    "\n",
    "The ~ (tilde) symbol means “follows the distribution.”\n",
    "\n",
    "The distribution is denoted by a capital letter (usually the first letter of the distribution’s name), followed by brackets that contain the distribution’s parameters.\n",
    "\n",
    "For example, the following notation means “the random variable X follows a normal distribution with a mean of µ and a variance of σ2.”\n",
    "\n",
    "X \\sim N(\\mu,\\sigma^2)\n",
    "\n",
    "There are two types of probability distributions:\n",
    "\n",
    "1.Discrete probability distributions\n",
    "\n",
    "2.Continuous probability distributions"
   ]
  },
  {
   "cell_type": "markdown",
   "id": "048ddb4e-59b6-47d1-a2dd-1dc8f5e8528f",
   "metadata": {},
   "source": [
    "Discrete probability distributions\n",
    "\n",
    "A discrete probability distribution is a probability distribution of a categorical or discrete variable.\n",
    "\n",
    "Discrete probability distributions only include the probabilities of values that are possible. In other words, a discrete probability distribution doesn’t include any values with a probability of zero. For example, a probability distribution of dice rolls doesn’t include 2.5 since it’s not a possible outcome of dice rolls.\n",
    "\n",
    "The probability of all possible values in a discrete probability distribution add up to one. It’s certain (i.e., a probability of one) that an observation will have one of the possible values.\n",
    "\n",
    "Probability tables\n",
    "A probability table represents the discrete probability distribution of a categorical variable. Probability tables can also represent a discrete variable with only a few possible values or a continuous variable that’s been grouped into class intervals.\n",
    "\n",
    "A probability table is composed of two columns:\n",
    "\n",
    "The values or class intervals\n",
    "Their probabilities\n",
    "\n",
    "Probability mass functions\n",
    "A probability mass function (PMF) is a mathematical function that describes a discrete probability distribution. It gives the probability of every possible value of a variable.\n",
    "\n",
    "A probability mass function can be represented as an equation or as a graph.\n",
    "\n",
    "Common discrete probability distributions\n",
    "\n",
    "Binomial\tDescribes variables with two possible outcomes. It’s the probability distribution of the number of successes in n trials with p probability of success.\tThe number of times a coin lands on heads when you toss it five times\n",
    "\n",
    "Discrete uniform\tDescribes events that have equal probabilities.\tThe suit of a randomly drawn playing card\n",
    "\n",
    "Poisson\tDescribes count data. It gives the probability of an event happening k number of times within a given interval of time or space.\tThe number of text messages received per day"
   ]
  },
  {
   "cell_type": "markdown",
   "id": "47e9121b-916f-46a5-b177-494abd1db702",
   "metadata": {},
   "source": [
    "Continuous probability distributions\n",
    "A continuous probability distribution is the probability distribution of a continuous variable.\n",
    "\n",
    "A continuous variable can have any value between its lowest and highest values. Therefore, continuous probability distributions include every number in the variable’s range.\n",
    "\n",
    "The probability that a continuous variable will have any specific value is so infinitesimally small that it’s considered to have a probability of zero. However, the probability that a value will fall within a certain interval of values within its range is greater than zero.\n",
    "\n",
    "Probability density functions\n",
    "A probability density function (PDF) is a mathematical function that describes a continuous probability distribution. It provides the probability density of each value of a variable, which can be greater than one.\n",
    "\n",
    "A probability density function can be represented as an equation or as a graph.\n",
    "\n",
    "In graph form, a probability density function is a curve. You can determine the probability that a value will fall within a certain interval by calculating the area under the curve within that interval. You can use reference tables or software to calculate the area.\n",
    "\n",
    "The area under the whole curve is always exactly one because it’s certain (i.e., a probability of one) that an observation will fall somewhere in the variable’s range.\n",
    "\n",
    "A cumulative distribution function is another type of function that describes a continuous probability distribution.\n",
    "\n",
    "Common continuous probability distributions\n",
    "\n",
    "Normal distribution\t- Describes data with values that become less probable the farther they are from the mean, with a bell-shaped probability density function.\tSAT scores\n",
    "\n",
    "Continuous uniform -\tDescribes data for which equal-sized intervals have equal probability.\tThe amount of time cars  wait at a red light\n",
    "\n",
    "Log-normal\t-Describes right-skewed data. It’s the probability distribution of a random variable whose logarithm is normally distributed.\tThe average body weight of different mammal species\n",
    "\n",
    "Exponential\t-Describes data that has higher probabilities for small values than large values. It’s the probability distribution of time between independent events.\tTime between earthquakes"
   ]
  },
  {
   "cell_type": "markdown",
   "id": "66384798-a06e-4968-a8ee-4f07c1081534",
   "metadata": {},
   "source": [
    "Q3. Write a Python function to calculate the probability density function of a normal distribution with\n",
    "given mean and standard deviation at a given point."
   ]
  },
  {
   "cell_type": "code",
   "execution_count": 23,
   "id": "55e54e70-1b41-48e0-b5ea-1bbe6f1530d3",
   "metadata": {},
   "outputs": [
    {
     "data": {
      "text/plain": [
       "0.09973557010035818"
      ]
     },
     "execution_count": 23,
     "metadata": {},
     "output_type": "execute_result"
    }
   ],
   "source": [
    "import math as ma\n",
    "def pdfNorm(point,mean,standard_deviation):\n",
    "    x=float(point)\n",
    "    m=float(mean)\n",
    "    std=float(standard_deviation)\n",
    "    denom=std*(2*ma.pi)**(1/2)\n",
    "    num=ma.exp((-1/2)*((x-m)/std)**2)\n",
    "    return num/denom\n",
    "\n",
    "pdfNorm(4,4,4)\n",
    "    "
   ]
  },
  {
   "cell_type": "markdown",
   "id": "0ca625d2-d14b-4d2d-9c68-22fe89eacca9",
   "metadata": {},
   "source": [
    "Q4. What are the properties of Binomial distribution? Give two examples of events where binomial\n",
    "distribution can be applied."
   ]
  },
  {
   "cell_type": "markdown",
   "id": "89b9d2a0-dda4-4a86-a20b-cafdca218b0d",
   "metadata": {},
   "source": [
    "Binomial Probability Distribution\n",
    "In binomial probability distribution, the number of ‘Success’ in a sequence of n experiments, where each time a question is asked for yes-no, then the boolean-valued outcome is represented either with success/yes/true/one (probability p) or failure/no/false/zero (probability q = 1 − p). \n",
    "\n",
    "Binomial Distribution in Statistics\n",
    "The binomial distribution forms the base for the famous binomial test of statistical importance. The binomial distribution represents the probability for 'x' successes of an experiment in 'n' trials, given a success probability 'p' for each trial at the experiment. Two parameters n and p are used here in the binomial distribution. The variable ‘n’ represents the number of trials and the variable ‘p’ states the probability of any one(each) outcome. A test that has a single outcome such as success/failure is also called a Bernoulli trial or Bernoulli experiment, and a series of outcomes is called a Bernoulli process.\n",
    "\n",
    "Consider an experiment where each time a question is asked for a yes/no with a series of n experiments. Then in the binomial probability distribution, the boolean-valued outcome the success/yes/true/one is represented with probability p and the failure/no/false/zero with probability q (q = 1 − p). In a single experiment when n = 1, the binomial distribution is called a Bernoulli distribution.\n",
    "\n",
    "If a dice is thrown randomly 10 times, then the probability of getting a 3 for any throw is 1/6. Similarly, if we throw the dice 10 times, we have n = 10 and p = 1/6, q = 5/6\n",
    "\n",
    "\n",
    "Properties of Binomial Distribution\n",
    "\n",
    "The properties of the binomial distribution are:\n",
    "\n",
    "1.There are only two distinct possible outcomes: true/false, success/failure, yes/no.\n",
    "2.There is a fixed number of 'n' times repeated trials in a given experiment.\n",
    "3.The probability of success or failure remains constant for each attempt/trial.\n",
    "4.Only the successful attempts are calculated out of 'n' independent trials.\n",
    "5.Every trial is an independent trial on its own, this means that the outcome of one trial has no effect on the outcome of another trial.\n",
    "\n",
    "Binomial Distribution Examples\n",
    "\n",
    "1.Finding the quantity of raw and used materials while making a product.\n",
    "2.Taking a survey of positive and negative reviews from the public for any specific product or place.\n",
    "3.By using the YES/ NO survey, we can check whether the number of persons views the particular channel.\n",
    "4.To find the number of male and female employees in an organisation."
   ]
  },
  {
   "cell_type": "markdown",
   "id": "fee2adc0-9fa0-4248-9627-9225bc4ee5cd",
   "metadata": {},
   "source": [
    "Q5. Generate a random sample of size 1000 from a binomial distribution with probability of success 0.4\n",
    "and plot a histogram of the results using matplotlib."
   ]
  },
  {
   "cell_type": "code",
   "execution_count": 24,
   "id": "c5815c7e-4d8a-4d92-bbc3-1547e80802b2",
   "metadata": {},
   "outputs": [
    {
     "data": {
      "image/png": "[encoded data removed]",
      "text/plain": [
       "<Figure size 640x480 with 1 Axes>"
      ]
     },
     "metadata": {},
     "output_type": "display_data"
    }
   ],
   "source": [
    "import numpy as np\n",
    "import matplotlib.pyplot as plt\n",
    "\n",
    "# Set the parameters of the binomial distribution\n",
    "n = 10\n",
    "p = 0.4\n",
    "\n",
    "# Generate a random sample of size 1000 from the binomial distribution\n",
    "sample = np.random.binomial(n, p, size=1000)\n",
    "\n",
    "# Plot a histogram of the results\n",
    "plt.hist(sample, bins=range(n+1), align='left', rwidth=0.8)\n",
    "plt.xticks(range(n))\n",
    "plt.xlabel('Number of Successes')\n",
    "plt.ylabel('Frequency')\n",
    "plt.title('Histogram of Binomial Distribution (n={}, p={})'.format(n, p))\n",
    "plt.show()\n"
   ]
  },
  {
   "cell_type": "markdown",
   "id": "5aea4dbd-b001-48b9-accf-b021292cb33a",
   "metadata": {},
   "source": [
    "Q6. Write a Python function to calculate the cumulative distribution function of a Poisson distribution\n",
    "with given mean at a given point."
   ]
  },
  {
   "cell_type": "code",
   "execution_count": 25,
   "id": "b5035f69-de59-46ef-970b-1eb83f3c6981",
   "metadata": {},
   "outputs": [
    {
     "data": {
      "text/plain": [
       "0.8666283259299927"
      ]
     },
     "execution_count": 25,
     "metadata": {},
     "output_type": "execute_result"
    }
   ],
   "source": [
    "import math\n",
    "def cdfPoisson(mean,points):\n",
    "    cdf=0.0\n",
    "    pmf=0.0\n",
    "    for i in range(points+1):\n",
    "        pmf=(math.exp(-mean)*mean**i)/math.factorial(i)\n",
    "        cdf+=pmf\n",
    "    return cdf\n",
    "\n",
    "cdfPoisson(5,7)"
   ]
  },
  {
   "cell_type": "markdown",
   "id": "9d476fb3-5cd5-4a9d-b433-af2d1ba77fa6",
   "metadata": {},
   "source": [
    "Q7. How Binomial distribution different from Poisson distribution?"
   ]
  },
  {
   "cell_type": "markdown",
   "id": "53c8c05e-50ee-4302-9fbe-9da9cb66b516",
   "metadata": {},
   "source": [
    "The differences between binomial and poisson distribution can be drawn clearly on the following grounds:\n",
    "\n",
    "1.The binomial distribution is one in which the probability of repeated number of trials is studied. A probability distribution that gives the count of a number of independent events occur randomly within a given period, is called probability distribution.\n",
    "\n",
    "2.Binomial Distribution is biparametric, i.e. it is featured by two parameters n and p whereas Poisson distribution is uniparametric, i.e. characterised by a single parameter m.\n",
    "\n",
    "3.There are a fixed number of attempts in the binomial distribution. On the other hand, an unlimited number of trials are there in a poisson distribution.\n",
    "\n",
    "4.The success probability is constant in binomial distribution but in poisson distribution, there are an extremely small number of success chances.\n",
    "\n",
    "5.In a binomial distribution, there are only two possible outcomes, i.e. success or failure. Conversely, there are an unlimited number of possible outcomes in the case of poisson distribution.\n",
    "\n",
    "6.In binomial distribution Mean > Variance while in poisson distribution mean = variance.\n",
    "\n"
   ]
  },
  {
   "cell_type": "markdown",
   "id": "48f70707-7575-46a4-a98a-4f7c75534aca",
   "metadata": {},
   "source": [
    "Q8. Generate a random sample of size 1000 from a Poisson distribution with mean 5 and calculate the\n",
    "sample mean and variance."
   ]
  },
  {
   "cell_type": "code",
   "execution_count": 26,
   "id": "2ed16238-8cbe-4663-82fc-eb3fdd65982c",
   "metadata": {},
   "outputs": [
    {
     "name": "stdout",
     "output_type": "stream",
     "text": [
      "The sample mean and sample variance of sample data is 5.006 and 5.129964 respectively\n"
     ]
    }
   ],
   "source": [
    "import numpy as np\n",
    "given_mean=5\n",
    "sample=np.random.poisson(5,1000)\n",
    "sample_mean=np.mean(sample)\n",
    "sample_variance=np.var(sample)\n",
    "print(f\"The sample mean and sample variance of sample data is {sample_mean} and {sample_variance} respectively\")"
   ]
  },
  {
   "cell_type": "markdown",
   "id": "2c877873-2e01-4da7-a086-b13f7cef932f",
   "metadata": {},
   "source": [
    "Q9. How mean and variance are related in Binomial distribution and Poisson distribution?"
   ]
  },
  {
   "cell_type": "markdown",
   "id": "8f129172-f9a8-4071-b03b-e046a9b869ce",
   "metadata": {},
   "source": [
    "In both the Binomial and Poisson distributions, the mean and variance are related in a similar way.\n",
    "\n",
    "For the Binomial distribution with parameters n and p, the mean is given by μ = np and the variance is given by σ^2 = np(1-p). Thus, the variance is a function of both the number of trials n and the probability of success p. As p gets closer to 0 or 1, the variance decreases, reflecting the fact that the distribution becomes increasingly concentrated around the mean.\n",
    "\n",
    "For the Poisson distribution with parameter λ, the mean is also given by μ = λ and the variance is also given by σ^2 = λ. Thus, the variance is a function of the rate parameter λ. As λ increases, the variance also increases, reflecting the fact that the distribution becomes more spread out around the mean.\n",
    "\n",
    "In both distributions, when the mean is large, the variance is also large, indicating that the distribution is more spread out. Conversely, when the mean is small, the variance is also small, indicating that the distribution is more tightly clustered around the mean.\n",
    "\n",
    "In summary, for both the Binomial and Poisson distributions, the variance is related to the mean in a way that reflects the degree of spread or concentration of the distribution."
   ]
  },
  {
   "cell_type": "markdown",
   "id": "d8557301-ea53-46f2-99c8-18fc581640c7",
   "metadata": {},
   "source": [
    "Q10. In normal distribution with respect to mean position, where does the least frequent data appear?"
   ]
  },
  {
   "cell_type": "markdown",
   "id": "47face12-af68-4ed5-aed2-91eedd98558d",
   "metadata": {},
   "source": [
    "The empirical rule, or the 68-95-99.7 rule, tells you where most of your values lie in a normal distribution:\n",
    "\n",
    "Around 68% of values are within 1 standard deviation from the mean.\n",
    "\n",
    "Around 95% of values are within 2 standard deviations from the mean.\n",
    "\n",
    "Around 99.7% of values are within 3 standard deviations from the mean.\n",
    "\n",
    "In a normal distribution, the least frequent data appears at the tails of the distribution, farthest from the mean. This is because the normal distribution is symmetric and bell-shaped, with the majority of the data clustered around the mean. The tails of the distribution represent the extreme values that are less likely to occur, since they are located far away from the mean.\n",
    "\n",
    "Specifically, in a normal distribution with mean μ and standard deviation σ, the least frequent data appears at the values that are 3σ or more away from the mean in either direction. This is because about 99.7% of the data falls within 3σ of the mean, leaving only 0.3% of the data to be spread out across the tails of the distribution.\n",
    "\n",
    "Therefore, the least frequent data in a normal distribution appears at the extreme values that are located at the tails of the distribution, farthest from the mean."
   ]
  },
  {
   "cell_type": "code",
   "execution_count": null,
   "id": "5af461c7-1089-4212-b71b-66b36b4fe192",
   "metadata": {},
   "outputs": [],
   "source": []
  }
 ],
 "metadata": {
  "kernelspec": {
   "display_name": "Python 3 (ipykernel)",
   "language": "python",
   "name": "python3"
  },
  "language_info": {
   "codemirror_mode": {
    "name": "ipython",
    "version": 3
   },
   "file_extension": ".py",
   "mimetype": "text/x-python",
   "name": "python",
   "nbconvert_exporter": "python",
   "pygments_lexer": "ipython3",
   "version": "3.10.8"
  }
 },
 "nbformat": 4,
 "nbformat_minor": 5
}
