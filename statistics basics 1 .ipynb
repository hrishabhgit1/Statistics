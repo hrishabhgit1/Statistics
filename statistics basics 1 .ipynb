{
 "cells": [
  {
   "cell_type": "markdown",
   "id": "a6e7c943-c285-4291-8c30-8dcd82236c27",
   "metadata": {},
   "source": [
    "Q1. What is Statistics?"
   ]
  },
  {
   "cell_type": "markdown",
   "id": "85e93c77-9de8-4867-8288-4b891f342937",
   "metadata": {},
   "source": [
    "Statistics is a branch of mathematics that deals with the study of collecting, analyzing, interpreting, presenting, and organizing data(facts or piece of information) in a particular manner. Statistics is defined as the process of collection of data, classifying data, representing the data for easy interpretation, and further analysis of data. Statistics also is referred to as arriving at conclusions from the sample data that is collected using surveys or experiments. Different sectors such as psychology, sociology, geology, probability, and so on also use statistics to function.\n",
    "\n",
    "Nowadays, statistics has taken a pivotal role in various fields like data science, machine learning, data analyst role, business intelligence analyst role, computer science role, and much more.\n",
    "\n"
   ]
  },
  {
   "cell_type": "markdown",
   "id": "5da08639-d9ed-49ad-9eca-df7a7df10204",
   "metadata": {},
   "source": [
    "Q2. Define the different types of statistics and give an example of when each type might be used."
   ]
  },
  {
   "cell_type": "markdown",
   "id": "f3bd514a-12a8-443c-befb-c4ee804a24bb",
   "metadata": {},
   "source": [
    "Types of Statistics Concepts:\n",
    " 1)Descriptive statistics\n",
    " 2)Inferential statistics\n",
    " \n",
    "Descriptive Statistics -Descriptive statistics is a concept that allows us to analyze and summarize data and organize the same in the form of numbers graph, bar plots, histogram, pie chart, etc. Descriptive statistics is simply a process to describe our existing data. It transforms the raw observations into some meaningful data that can be further interpreted and used. Concepts like measure of central tendency ,measure of dispersion , Difference type of Distribution of data  are widely used around the world when it comes to learning descriptive statistics.\n",
    "\n",
    "Inferential Statistics – Inferential statistics on the other hand is an important concept that deals with drawing conclusions based on small samples collected from the entire population. For example, during an election poll, people will often want to predict the exit poll results so they will conduct a survey in various parts of state or country and record their opinion. Based on the information they have collected they tend to draw conclusions and make inferences to predict results for the entire population.\n",
    "\n",
    "\n",
    " \n",
    " "
   ]
  },
  {
   "cell_type": "markdown",
   "id": "a8bb6056-c375-4c80-bd14-7c5b7dafacf3",
   "metadata": {},
   "source": [
    "Q3. What are the different types of data and how do they differ from each other? Provide an example of\n",
    "each type of data."
   ]
  },
  {
   "cell_type": "markdown",
   "id": "dac66615-824b-4186-be84-009b2246a5b4",
   "metadata": {},
   "source": [
    "Data is a systematic record of digital information retrieved from digital interactions as facts and figures. Types of statistical data work as an insight for future predictions and improving pre-existing services. The continuous data flow has helped millions of organizations to attain growth with fact-backed decisions. Data is a vast record of information segmented into various categories to acquire different types, quality, and characteristics of data, and these categories are called data types."
   ]
  },
  {
   "cell_type": "markdown",
   "id": "84f27458-af98-4499-b0d6-164211b77b2a",
   "metadata": {},
   "source": [
    "                            Data         \n",
    "              ________________|_________________\n",
    "              |                                |\n",
    "        Quantitative                      Qualatitative \n",
    "    __________|___________           __________|_____________\n",
    "    |                    |           |                      |\n",
    "__Discrete___________________Continuous______Nominal_________________Ordinal\n",
    "    "
   ]
  },
  {
   "cell_type": "markdown",
   "id": "87485df1-1297-400f-baa3-5530ac953921",
   "metadata": {},
   "source": [
    "Qualitative Data Type\n",
    "Qualitative or Categorical Data describes the object under consideration using a finite set of discrete classes. It means that this type of data can’t be counted or measured easily using numbers and therefore divided into categories. The gender of a person (male, female, or others) is a good example of this data type.\n",
    "\n",
    "These are usually extracted from audio, images, or text medium. Another example can be of a smartphone brand that provides information about the current rating, the color of the phone, category of the phone, and so on. All this information can be categorized as Qualitative data. There are two subcategories under this:\n",
    "\n",
    "1)Nominal\n",
    "These are the set of values that don’t possess a natural ordering. Let’s understand this with some examples. The color of a smartphone can be considered as a nominal data type as we can’t compare one color with others.\n",
    "\n",
    "2)Ordinal\n",
    "These types of values have a natural ordering while maintaining their class of values. If we consider the size of a clothing brand then we can easily sort them according to their name tag in the order of small < medium < large. The grading system while marking candidates in a test can also be considered as an ordinal data type where A+ is definitely better than B grade. \n",
    "\n",
    "Quantitative Data Type\n",
    "This data type tries to quantify things and it does by considering numerical values that make it countable in nature. The price of a smartphone, discount offered, number of ratings on a product, the frequency of processor of a smartphone, or ram of that particular phone, all these things fall under the category of Quantitative data types.\n",
    "\n",
    "1)Discrete\n",
    "The numerical values which fall under are integers or whole numbers are placed under this category. The number of speakers in the phone, cameras, cores in the processor, the number of sims supported all these are some of the examples of the discrete data type.\n",
    "\n",
    "Discrete data types in statistics cannot be measured – it can only be counted as the objects included in discrete data have a fixed value. The value can be represented in decimal, but it has to be whole. Discrete data is often identified through charts, including bar charts, pie charts, and tally charts.\n",
    "\n",
    "2)Continuous\n",
    " The fractional numbers are considered as continuous values. These can take the form of the operating frequency of the processors, the android version of the phone, wifi frequency, temperature of the cores, and so on. \n",
    "\n",
    "Unlike discrete data types of data in research, with a whole and fixed value, continuous data can break down into smaller pieces and can take any value. For example, volatile values such as temperature and the weight of a human can be included in the continuous value. Continuous types of statistical data are represented using a graph that easily reflects value fluctuation by the highs and lows of the line through a certain period of time. \n"
   ]
  },
  {
   "cell_type": "markdown",
   "id": "6113fb80-9fd4-401e-97fe-c34818533a10",
   "metadata": {},
   "source": [
    "Q4. Categorise the following datasets with respect to quantitative and qualitative data types:\n",
    "(i) Grading in exam: A+, A, B+, B, C+, C, D, E\n",
    "(ii) Colour of mangoes: yellow, green, orange, red\n",
    "(iii) Height data of a class: [178.9, 179, 179.5, 176, 177.2, 178.3, 175.8,...]\n",
    "(iv) Number of mangoes exported by a farm: [500, 600, 478, 672, ...]"
   ]
  },
  {
   "cell_type": "markdown",
   "id": "189d718b-4c44-4854-b09a-72fcc33c52fd",
   "metadata": {},
   "source": [
    "(i) Grading in exam: A+, A, B+, B, C+, C, D, E  =>Ordinal qualitative  \n",
    "\n",
    "(ii) Colour of mangoes: yellow, green, orange, red => Nominal qualitative\n",
    "\n",
    "(iii) Height data of a class: [178.9, 179, 179.5, 176, 177.2, 178.3, 175.8,...]=>Continous quatitative\n",
    "\n",
    "(iv) Number of mangoes exported by a farm: [500, 600, 478, 672, ...]=>Discrete quatitative\n"
   ]
  },
  {
   "cell_type": "markdown",
   "id": "01b4b3da-a79f-4296-98b1-7846ea984552",
   "metadata": {},
   "source": [
    "Q5. Explain the concept of levels of measurement and give an example of a variable for each level."
   ]
  },
  {
   "cell_type": "markdown",
   "id": "da193433-c998-46fb-9730-943b3201e60c",
   "metadata": {},
   "source": [
    "When gathering data for analysis, you might notice that the information varies in degree of complexity from past analyses. You can describe the varying degree of complexity using levels of measurement, which help you categorize data by how you can analyze it. Learning about the four levels of measurement allows statisticians and analysts to more efficiently plan for research and present their findings.\n",
    "When carrying out any kind of data collection or analysis, it’s essential to understand the nature of the data you’re dealing with. Within your dataset, you’ll have different variables—and these variables can be recorded to varying degrees of precision. This is what’s known as the level of measurement.\n",
    "\n",
    "There are four main levels of measurement: nominal, ordinal, interval, and ratio.\n",
    "\n",
    "1)The nominal scale simply categorizes variables according to qualitative labels (or names). These labels and groupings don’t have any order or hierarchy to them, nor do they convey any numerical value. For example, the variable “hair color” could be measured on a nominal scale according to the following categories: blonde hair, brown hair, gray hair, and so on. \n",
    "\n",
    "2)The ordinal scale also categorizes variables into labeled groups, and these categories have an order or hierarchy to them. For example, you could measure the variable “income” on an ordinal scale as follows: low income, medium income, high income. Another example could be level of education, classified as follows: high school, master’s degree, doctorate. These are still qualitative labels (as with the nominal scale), but you can see that they follow a hierarchical order. \n",
    "\n",
    "3)The interval scale is a numerical scale which labels and orders variables, with a known, evenly spaced interval between each of the values. An oft-cited example of interval data is temperature in Fahrenheit, where the difference between 10 and 20 degrees Fahrenheit is exactly the same as the difference between, say, 50 and 60 degrees Fahrenheit.\n",
    "\n",
    "4)The ratio scale is exactly the same as the interval scale, with one key difference: The ratio scale has what’s known as a “true zero.” A good example of ratio data is weight in kilograms. If something weighs zero kilograms, it truly weighs nothing—compared to temperature (interval data), where a value of zero degrees doesn’t mean there is “no temperature,” it simply means it’s extremely cold.\n"
   ]
  },
  {
   "cell_type": "markdown",
   "id": "321929e5-2e0e-4bcf-a4d1-0a6eda301846",
   "metadata": {},
   "source": [
    "Q6. Why is it important to understand the level of measurement when analyzing data? Provide an\n",
    "example to illustrate your answer."
   ]
  },
  {
   "cell_type": "markdown",
   "id": "b9671ac7-1912-4799-923d-2f0d29ed4d18",
   "metadata": {},
   "source": [
    "Levels of measurement are important because they indicate the extent to which statisticians, marketing analysts and financial analysts can use existing data. For instance, if you classify your data at the ordinal level of measurement, you know that you can evaluate how items compare to each other based on a specific hierarchy. If you wanted to analyze the exact distance between items rather than understand only how they compare to one another, you might want to rely on data at the interval level of measurement.\n",
    "\n",
    "For instance, you might use an interval measurement to calculate ranges within data sets, such as taking the temperature outside. When measuring the temperature, the difference between 85 degrees and 90 degrees is the same as the difference between 65 degrees and 70 degrees. This difference gives you an interval of five, which means no matter where in your ordered data you take an interval measure, it remains the same between the various data.\n",
    "\n",
    "Understanding levels of measurement can also help you properly plan your research. For instance, if you want to gather data with a true zero point, you can invest the appropriate resources to go beyond nominal data and gather data that adheres to the ratio level of measurement. The levels of data measurement are also important for providing insight into how to present research findings. For instance, when applying interval measurement, you might present your data in charts or graphs, whereas ratio measurement might use mathematical equations.\n"
   ]
  },
  {
   "cell_type": "markdown",
   "id": "0049c4cd-582d-4673-a489-21b93112f79b",
   "metadata": {},
   "source": [
    "Q7. How nominal data type is different from ordinal data type."
   ]
  },
  {
   "cell_type": "markdown",
   "id": "8fad00af-549c-40cc-a576-72b9e9228d28",
   "metadata": {},
   "source": [
    "The key differences :\n",
    "\n",
    "Meaning\n",
    "\n",
    "Nominal data are those items which are distinguished by a simple naming system. They are data with no numeric value, such as profession. The nominal data just name a thing without applying it to an order related to other numbered items.\n",
    "\n",
    "Ordinal data is data which is placed into some kind of order by their position on the scale. For example, they may indicate superiority. However, you cannot do arithmetic with ordinal numbers because they only show sequence.\n",
    "\n",
    "\n",
    "Are they categorical?\n",
    "\n",
    "Yes, nominal data are also called categorical data.\n",
    "\n",
    "Ordinal variables are “in between” categorical and quantitative variables.\n",
    "\n",
    "The level of quantitative value\n",
    "\n",
    "nominal data - Without any type of quantitative value.\n",
    "\n",
    "We can assign numbers to ordinal data but we cannot do arithmetic with ordinal numbers.\n",
    "\n",
    "Key Points-Nominal data\n",
    "\n",
    "Nominal data cannot be quantified.\n",
    "It also cannot be assigned to any type of order.\n",
    "The values are only allocated to distinct categories.\n",
    "Those categories have no meaningful order.\n",
    "\n",
    "Examples\n",
    "Gender (Women, Men)\n",
    "Religion (Muslin, Buddhist,\n",
    "Christian)\n",
    "Hair color (Blonde, Brown,\n",
    "Brunette, Red, etc.)\n",
    "Marital status (Married,\n",
    "Single, Widowed)\n",
    "Ethnicity (Hispanic, Asian)\n",
    "Eye color (Blue, Green,\n",
    "Brown).\n",
    "\n",
    "key Points- Ordinal data\n",
    "\n",
    "Ordinal data is placed into some kind of order.\n",
    "Ordinal numbers only show sequence.\n",
    "We can assign numbers to ordinal data.\n",
    "We cannot do arithmetic with ordinal numbers.\n",
    "We don’t know if the differences between the values are equal.\n",
    "\n",
    "Examples\n",
    "The first, second and third person in a competition.\n",
    "Education level: the elementary school, high school, college.\n",
    "Customer rating of the sales experience on a scale of 1-10.\n",
    "Letter grades: A, B, C, and etc.\n",
    "Economic status: low, medium and high.\n",
    "Customer level of satisfaction: very satisfied, satisfied, neutral,\n",
    "dissatisfied, very dissatisfied."
   ]
  },
  {
   "cell_type": "markdown",
   "id": "6f3dd3a6-f239-44d8-99e5-78c99409785f",
   "metadata": {},
   "source": [
    "Q8. Which type of plot can be used to display data in terms of range?"
   ]
  },
  {
   "cell_type": "markdown",
   "id": "edce7ee1-8701-441d-99d4-db5cf0fb8d19",
   "metadata": {},
   "source": [
    "Histograms "
   ]
  },
  {
   "cell_type": "markdown",
   "id": "5b773047-5e7a-49b7-baac-645df0103d36",
   "metadata": {},
   "source": [
    "Q9. Describe the difference between descriptive and inferential statistics. Give an example of each\n",
    "type of statistics and explain how they are used."
   ]
  },
  {
   "cell_type": "markdown",
   "id": "2c1fc092-d32a-46e8-90cf-6c4f6aa19f5e",
   "metadata": {},
   "source": [
    "Descriptive Statistics\n",
    "In a nutshell, descriptive statistics aims to describe a chunk of raw data using summary statistics, graphs, and tables.\n",
    "\n",
    "Descriptive statistics are useful because they allow you to understand a group of data much more quickly and easily compared to just staring at rows and rows of raw data values.\n",
    "\n",
    "For example, suppose we have a set of raw data that shows the test scores of 1,000 students at a particular school. We might be interested in the average test score along with the distribution of test scores.\n",
    "\n",
    "Using descriptive statistics, we could find the average score and create a graph that helps us visualize the distribution of scores.\n",
    "\n",
    "This allows us to understand the test scores of the students much more easily compared to just staring at the raw data.\n",
    "\n",
    "Common Forms of Descriptive Statistics\n",
    "There are three common forms of descriptive statistics:\n",
    "\n",
    "1. Summary statistics. These are statistics that summarize the data using a single number. There are two popular types of summary statistics:\n",
    "\n",
    "Measures of central tendency: these numbers describe where the center of a dataset is located. Examples include the mean and the median.\n",
    "Measures of dispersion: these numbers describe how spread out the values are in the dataset. Examples include the range, interquartile range, standard deviation, and variance.\n",
    "\n",
    "2. Graphs. Graphs help us visualize data. Common types of graphs used to visualize data include boxplots, histograms, stem-and-leaf plots, and scatterplots.\n",
    "\n",
    "3. Tables. Tables can help us understand how data is distributed. One common type of table is a frequency table, which tells us how many data values fall within certain ranges.\n",
    "\n",
    "Inferential Statistics\n",
    "In a nutshell, inferential statistics uses a small sample of data to draw inferences about the larger population that the sample came from.\n",
    "\n",
    "For example, we might be interested in understanding the political preferences of millions of people in a country.\n",
    "\n",
    "However, it would take too long and be too expensive to actually survey every individual in the country. Thus, we would instead take a smaller survey of say, 1,000 Americans, and use the results of the survey to draw inferences about the population as a whole.\n",
    "\n",
    "This is the whole premise behind inferential statistics – we want to answer some question about a population, so we obtain data for a small sample of that population and use the data from the sample to draw inferences about the population.\n",
    "\n",
    "The Difference Between Descriptive and Inferential Statistics\n",
    "\n",
    "In summary, the difference between descriptive and inferential statistics can be described as follows:\n",
    "\n",
    "Descriptive statistics use summary statistics, graphs, and tables to describe a data set.\n",
    "\n",
    "This is useful for helping us gain a quick and easy understanding of a data set without pouring over all of the individual data values.\n",
    "\n",
    "Inferential statistics use samples to draw inferences about larger populations.\n",
    "\n",
    "Depending on the question you want to answer about a population, you may decide to use one or more of the following methods: hypothesis tests, confidence intervals, and regression analysis.\n",
    "\n",
    "If you do choose to use one of these methods, keep in mind that your sample needs to be representative of your population, or the conclusions you draw will be unreliable.\n"
   ]
  },
  {
   "cell_type": "markdown",
   "id": "ba61c70c-12c4-4b2a-add1-110b81a5f7d5",
   "metadata": {},
   "source": [
    "Q10. What are some common measures of central tendency and variability used in statistics? Explain\n",
    "how each measure can be used to describe a dataset."
   ]
  },
  {
   "cell_type": "markdown",
   "id": "b0aa1785-a716-4af9-9afe-e35858181625",
   "metadata": {},
   "source": [
    "Measure of central tendency\n",
    "\n",
    "A measure of central tendency is a single value that represents the center point of a dataset. This value can also be referred to as “the central location” of a dataset.\n",
    "\n",
    "In statistics, there are three common measures of central tendency:\n",
    "\n",
    "The mean\n",
    "\n",
    "The median\n",
    "\n",
    "The mode\n",
    "\n",
    "Each of these measures finds the central location of a dataset using different methods. Depending on the type of data you’re analyzing, one of these three measures may be better to use than the other two.\n",
    "\n",
    "Measure of variability\n",
    "\n",
    "Variability describes how far apart data points lie from each other and from the center of a distribution. Along with measures of central tendency, measures of variability give you descriptive statistics that summarize your data. Variability is also referred to as spread, scatter or dispersion.\n",
    "Variability describes how far apart data points lie from each other and from the center of a distribution. Along with measures of central tendency, measures of variability give you descriptive statistics that summarize your data.Variability is also referred to as spread, scatter or dispersion. It is most commonly measured with the following:\n",
    "\n",
    "Range: the difference between the highest and lowest values\n",
    "\n",
    "Interquartile range: the range of the middle half of a distribution\n",
    "\n",
    "Standard deviation: average distance from the mean\n",
    "\n",
    "Variance: average of squared distances from the mean\n",
    "\n"
   ]
  },
  {
   "cell_type": "code",
   "execution_count": null,
   "id": "2431c07a-e0f2-48c1-af8a-bf918246fea1",
   "metadata": {},
   "outputs": [],
   "source": []
  }
 ],
 "metadata": {
  "kernelspec": {
   "display_name": "Python 3 (ipykernel)",
   "language": "python",
   "name": "python3"
  },
  "language_info": {
   "codemirror_mode": {
    "name": "ipython",
    "version": 3
   },
   "file_extension": ".py",
   "mimetype": "text/x-python",
   "name": "python",
   "nbconvert_exporter": "python",
   "pygments_lexer": "ipython3",
   "version": "3.10.8"
  }
 },
 "nbformat": 4,
 "nbformat_minor": 5
}
